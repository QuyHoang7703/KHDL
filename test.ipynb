{
 "cells": [
  {
   "cell_type": "code",
   "execution_count": 5,
   "metadata": {},
   "outputs": [],
   "source": [
    "import pandas as pd\n",
    "from selenium import webdriver\n",
    "from selenium.webdriver.common.by import By\n",
    "from selenium.webdriver.support.ui import WebDriverWait\n",
    "from selenium.webdriver.support import expected_conditions as EC\n",
    "from bs4 import BeautifulSoup\n",
    "import time\n",
    "\n",
    "# Khởi tạo trình duyệt\n",
    "driver = webdriver.Chrome()\n",
    "url = \"https://fptshop.com.vn/may-tinh-xach-tay\"\n",
    "driver.get(url)\n",
    "\n"
   ]
  },
  {
   "cell_type": "code",
   "execution_count": 7,
   "metadata": {},
   "outputs": [],
   "source": [
    "def load_more():\n",
    "    try:\n",
    "        # Chờ cho nút \"Xem thêm\" xuất hiện trong khoảng thời gian tối đa là 10 giây\n",
    "        load_more_button = WebDriverWait(driver, 10).until(\n",
    "            EC.visibility_of_element_located((By.XPATH, \"//div[@class='cdt-product--loadmore']//a\"))\n",
    "        )\n",
    "        # Kiểm tra xem nút \"Xem thêm\" có hiển thị hay không\n",
    "        if load_more_button.is_displayed():\n",
    "            # Nhấn nút \"Xem thêm\"\n",
    "            load_more_button.click()\n",
    "            return True\n",
    "        else:\n",
    "            return False\n",
    "    except:\n",
    "        return False"
   ]
  },
  {
   "cell_type": "code",
   "execution_count": 9,
   "metadata": {},
   "outputs": [],
   "source": [
    "while load_more():\n",
    "    pass\n",
    "product_data = []\n",
    "product_links = []\n",
    "html_data = driver.page_source\n",
    "soup = BeautifulSoup(html_data, \"html.parser\")\n",
    "# Tìm tất cả các sản phẩm trên trang web\n",
    "product_div_lap = soup.find_all(\"div\", class_=\"cdt-product\")\n",
    "for div in product_div_lap:\n",
    "    product_info = div.find(\"div\", class_=\"cdt-product__info\")\n",
    "    product_name = product_info.find(\"h3\").find(\"a\").get(\"title\")\n",
    "    product_link = product_info.find(\"h3\").find(\"a\").get(\"href\")\n",
    "    product_links.append(product_link)\n",
    "    price_info = None\n",
    "    promo_info = None\n",
    "\n",
    "    promo_div = div.find(\"div\", class_=\"cdt-product__show-promo\")\n",
    "    if promo_div:\n",
    "        price_info = promo_div.find(\"strike\").text.strip()\n",
    "        promo_info = promo_div.find(\"div\", class_=\"progress\").text.strip()\n",
    "    else:\n",
    "        price_info = div.find(\"div\", class_=\"cdt-product__price\").find(\"div\", class_=\"price\").text.strip()\n",
    "\n",
    "    \n",
    "    config_param = div.find(\"div\", class_=\"cdt-product__config__param\")\n",
    "    product_specs = {}\n",
    "    if config_param:  # Kiểm tra xem có thông tin cấu hình hay không\n",
    "        span_tags = config_param.find_all(\"span\")\n",
    "        for span in span_tags:\n",
    "            title = span.get(\"data-title\")\n",
    "            value = span.text.strip()\n",
    "            product_specs[title] = value\n",
    "\n",
    "    product_data.append({\n",
    "        \"Tên sản phẩm\": product_name,\n",
    "        \"Giá sản phẩm\": price_info,\n",
    "        \"Giá Khuyến mãi\": promo_info,\n",
    "        **product_specs  # Thêm thông tin cấu hình vào dictionary của sản phẩm\n",
    "    })\n",
    "    "
   ]
  },
  {
   "cell_type": "code",
   "execution_count": 12,
   "metadata": {},
   "outputs": [],
   "source": [
    "df = pd.DataFrame(product_data)\n",
    "\n",
    "# Lưu DataFrame vào tệp CSV\n",
    "df.to_csv(\"test.csv\", index=False)"
   ]
  }
 ],
 "metadata": {
  "kernelspec": {
   "display_name": "py39",
   "language": "python",
   "name": "python3"
  },
  "language_info": {
   "codemirror_mode": {
    "name": "ipython",
    "version": 3
   },
   "file_extension": ".py",
   "mimetype": "text/x-python",
   "name": "python",
   "nbconvert_exporter": "python",
   "pygments_lexer": "ipython3",
   "version": "3.9.19"
  }
 },
 "nbformat": 4,
 "nbformat_minor": 2
}
